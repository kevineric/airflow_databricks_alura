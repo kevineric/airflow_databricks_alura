{
 "cells": [
  {
   "cell_type": "code",
   "execution_count": 0,
   "metadata": {
    "application/vnd.databricks.v1+cell": {
     "cellMetadata": {},
     "inputWidgets": {},
     "nuid": "ded59fd3-daee-4859-b0e1-eb25bf0be135",
     "showTitle": false,
     "title": ""
    }
   },
   "outputs": [],
   "source": [
    "from pyspark.sql.functions import to_date, first, col, round"
   ]
  },
  {
   "cell_type": "code",
   "execution_count": 0,
   "metadata": {
    "application/vnd.databricks.v1+cell": {
     "cellMetadata": {
      "byteLimit": 2048000,
      "rowLimit": 10000
     },
     "inputWidgets": {},
     "nuid": "f27cde6c-5879-49c9-a8cb-7f7b7c14cf34",
     "showTitle": false,
     "title": ""
    }
   },
   "outputs": [],
   "source": [
    "df_taxa = spark.read.parquet(\"dbfs:/databricks-results/bronze/*/*/*\")\n"
   ]
  },
  {
   "cell_type": "code",
   "execution_count": 0,
   "metadata": {
    "application/vnd.databricks.v1+cell": {
     "cellMetadata": {
      "byteLimit": 2048000,
      "rowLimit": 10000
     },
     "inputWidgets": {},
     "nuid": "dc3120c0-227c-4caa-a4de-53ea51ab9143",
     "showTitle": false,
     "title": ""
    }
   },
   "outputs": [
    {
     "output_type": "stream",
     "name": "stdout",
     "output_type": "stream",
     "text": [
      "+-----+--------+----------+\n|moeda|    taxa|      data|\n+-----+--------+----------+\n|  USD|0.183143|2024-07-05|\n|  USD|0.182634|2024-07-06|\n|  USD|0.182003|2024-07-07|\n|  USD|0.182752|2024-07-08|\n|  USD| 0.18455|2024-07-09|\n|  USD|0.184631|2024-07-10|\n|  USD| 0.18384|2024-07-11|\n|  USD|0.184186|2024-07-13|\n|  USD|0.184355|2024-07-14|\n|  USD|0.183543|2024-07-15|\n|  USD|0.182176|2024-07-17|\n|  USD|0.180352|2024-07-18|\n|  USD|0.178446|2024-07-19|\n|  USD|0.178568|2024-07-20|\n|  USD| 0.18038|2024-07-21|\n|  USD|0.179462|2024-07-22|\n|  USD|0.176831|2024-07-24|\n|  USD| 0.17716|2024-07-25|\n|  USD|0.177193|2024-07-27|\n|  USD|0.178171|2024-07-30|\n+-----+--------+----------+\nonly showing top 20 rows\n\n"
     ]
    }
   ],
   "source": [
    "moedas = [\"USD\", \"EUR\", \"GBP\"]\n",
    "\n",
    "df_moedas = df_taxa.filter(df_taxa.moeda.isin(moedas))"
   ]
  },
  {
   "cell_type": "code",
   "execution_count": 0,
   "metadata": {
    "application/vnd.databricks.v1+cell": {
     "cellMetadata": {
      "byteLimit": 2048000,
      "rowLimit": 10000
     },
     "inputWidgets": {},
     "nuid": "1237fa99-73fd-4e95-b72f-2c96e40e2966",
     "showTitle": false,
     "title": ""
    }
   },
   "outputs": [],
   "source": [
    "df_moedas = df_moedas.withColumn(\"data\", to_date(\"data\"))"
   ]
  },
  {
   "cell_type": "code",
   "execution_count": 0,
   "metadata": {
    "application/vnd.databricks.v1+cell": {
     "cellMetadata": {
      "byteLimit": 2048000,
      "rowLimit": 10000
     },
     "inputWidgets": {},
     "nuid": "abfb095b-8d3b-4c21-b452-01f3af931c5a",
     "showTitle": false,
     "title": ""
    }
   },
   "outputs": [
    {
     "output_type": "stream",
     "name": "stdout",
     "output_type": "stream",
     "text": [
      "+----------+--------+--------+--------+\n|      data|     EUR|     GBP|     USD|\n+----------+--------+--------+--------+\n|2024-08-23|0.160773|0.136222|0.178808|\n|2024-08-22|0.161645|0.137244|0.179636|\n|2024-08-21|0.163487|0.139287|0.182349|\n|2024-08-20|0.164002|0.140013|0.182495|\n|2024-08-19|0.166835|0.142378|0.184942|\n|2024-08-18|0.165744|0.141152|0.182722|\n|2024-08-17|0.165592|0.141169|0.182722|\n|2024-08-16|0.165592|0.141076|0.182722|\n|2024-08-15|0.166101|0.141741|0.182269|\n|2024-08-13|0.166639|0.142424|0.183244|\n|2024-08-12|0.166457|0.142546|0.182037|\n|2024-08-11|0.166365|0.142405|0.181561|\n|2024-08-10|0.165137|0.141383|0.180369|\n|2024-08-09|0.166281| 0.14267|0.181619|\n|2024-08-08|0.165141|0.141413|0.180258|\n|2024-08-07|0.162329|0.139915| 0.17739|\n|2024-08-06| 0.16182|0.139393|0.176772|\n|2024-08-05| 0.15958|0.136646|0.174746|\n|2024-08-04|0.160008|0.136521|0.174575|\n|2024-08-03|0.159859|0.136317|0.174575|\n+----------+--------+--------+--------+\nonly showing top 20 rows\n\n"
     ]
    }
   ],
   "source": [
    "df_moedas_ordenado = (df_moedas.groupBy(\"data\")\n",
    "                                .pivot(\"moeda\")\n",
    "                                .agg(first(\"taxa\"))\n",
    "                                .orderBy(\"data\", ascending=False))"
   ]
  },
  {
   "cell_type": "code",
   "execution_count": 0,
   "metadata": {
    "application/vnd.databricks.v1+cell": {
     "cellMetadata": {
      "byteLimit": 2048000,
      "rowLimit": 10000
     },
     "inputWidgets": {},
     "nuid": "19057587-3368-4519-bf8b-0f7b7b7ac3bd",
     "showTitle": false,
     "title": ""
    }
   },
   "outputs": [
    {
     "output_type": "stream",
     "name": "stdout",
     "output_type": "stream",
     "text": [
      "+----------+--------+--------+--------+\n|      data|     EUR|     GBP|     USD|\n+----------+--------+--------+--------+\n|2024-08-23|0.160773|0.136222|0.178808|\n|2024-08-22|0.161645|0.137244|0.179636|\n|2024-08-21|0.163487|0.139287|0.182349|\n|2024-08-20|0.164002|0.140013|0.182495|\n|2024-08-19|0.166835|0.142378|0.184942|\n|2024-08-18|0.165744|0.141152|0.182722|\n|2024-08-17|0.165592|0.141169|0.182722|\n|2024-08-16|0.165592|0.141076|0.182722|\n|2024-08-15|0.166101|0.141741|0.182269|\n|2024-08-13|0.166639|0.142424|0.183244|\n|2024-08-12|0.166457|0.142546|0.182037|\n|2024-08-11|0.166365|0.142405|0.181561|\n|2024-08-10|0.165137|0.141383|0.180369|\n|2024-08-09|0.166281| 0.14267|0.181619|\n|2024-08-08|0.165141|0.141413|0.180258|\n|2024-08-07|0.162329|0.139915| 0.17739|\n|2024-08-06| 0.16182|0.139393|0.176772|\n|2024-08-05| 0.15958|0.136646|0.174746|\n|2024-08-04|0.160008|0.136521|0.174575|\n|2024-08-03|0.159859|0.136317|0.174575|\n+----------+--------+--------+--------+\nonly showing top 20 rows\n\n"
     ]
    }
   ],
   "source": [
    "df_moedas_real = df_moedas_ordenado.select(\"*\")"
   ]
  },
  {
   "cell_type": "code",
   "execution_count": 0,
   "metadata": {
    "application/vnd.databricks.v1+cell": {
     "cellMetadata": {
      "byteLimit": 2048000,
      "rowLimit": 10000
     },
     "inputWidgets": {},
     "nuid": "a3c4dda2-1081-4457-ac19-dfa9dc028196",
     "showTitle": false,
     "title": ""
    }
   },
   "outputs": [],
   "source": [
    "for moeda in moedas:\n",
    "    df_moedas_real = df_moedas_real.withColumn(moeda, round(1/col(moeda),4))\n"
   ]
  },
  {
   "cell_type": "code",
   "execution_count": 0,
   "metadata": {
    "application/vnd.databricks.v1+cell": {
     "cellMetadata": {
      "byteLimit": 2048000,
      "rowLimit": 10000
     },
     "inputWidgets": {},
     "nuid": "01ea59fb-1171-412a-8783-73112effc335",
     "showTitle": false,
     "title": ""
    }
   },
   "outputs": [],
   "source": [
    "df_moedas_ordenado = df_moedas_ordenado.coalesce(1)\n",
    "df_moedas_real = df_moedas_real.coalesce(1)"
   ]
  },
  {
   "cell_type": "code",
   "execution_count": 0,
   "metadata": {
    "application/vnd.databricks.v1+cell": {
     "cellMetadata": {
      "byteLimit": 2048000,
      "rowLimit": 10000
     },
     "inputWidgets": {},
     "nuid": "cd425228-3e76-478a-a531-6ff8fff674d3",
     "showTitle": false,
     "title": ""
    }
   },
   "outputs": [],
   "source": [
    "(df_moedas_ordenado.write\n",
    "                    .mode(\"overwrite\")\n",
    "                    .format(\"csv\")\n",
    "                    .option(\"header\", \"true\")\n",
    "                    .save(\"dbfs:/databricks-results/prata/taxa_conversao\"))\n",
    "\n",
    "(df_moedas_real.write\n",
    "                    .mode(\"overwrite\")\n",
    "                    .format(\"csv\")\n",
    "                    .option(\"header\", \"true\")\n",
    "                    .save(\"dbfs:/databricks-results/prata/valores_reais\"))"
   ]
  }
 ],
 "metadata": {
  "application/vnd.databricks.v1+notebook": {
   "dashboards": [],
   "environmentMetadata": null,
   "language": "python",
   "notebookMetadata": {
    "pythonIndentUnit": 4
   },
   "notebookName": "2-Transformando dados",
   "widgets": {}
  }
 },
 "nbformat": 4,
 "nbformat_minor": 0
}
